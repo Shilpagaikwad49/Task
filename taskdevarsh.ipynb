{
 "cells": [
  {
   "cell_type": "code",
   "execution_count": 1,
   "id": "29acf3f7-3781-4395-8797-fbbf8e2ab972",
   "metadata": {},
   "outputs": [
    {
     "name": "stdout",
     "output_type": "stream",
     "text": [
      "Requirement already satisfied: pandas in c:\\users\\latitude\\anaconda3\\lib\\site-packages (2.2.2)\n",
      "Requirement already satisfied: openpyxl in c:\\users\\latitude\\anaconda3\\lib\\site-packages (3.1.2)\n",
      "Requirement already satisfied: numpy>=1.26.0 in c:\\users\\latitude\\anaconda3\\lib\\site-packages (from pandas) (1.26.4)\n",
      "Requirement already satisfied: python-dateutil>=2.8.2 in c:\\users\\latitude\\anaconda3\\lib\\site-packages (from pandas) (2.9.0.post0)\n",
      "Requirement already satisfied: pytz>=2020.1 in c:\\users\\latitude\\anaconda3\\lib\\site-packages (from pandas) (2024.1)\n",
      "Requirement already satisfied: tzdata>=2022.7 in c:\\users\\latitude\\anaconda3\\lib\\site-packages (from pandas) (2023.3)\n",
      "Requirement already satisfied: et-xmlfile in c:\\users\\latitude\\anaconda3\\lib\\site-packages (from openpyxl) (1.1.0)\n",
      "Requirement already satisfied: six>=1.5 in c:\\users\\latitude\\anaconda3\\lib\\site-packages (from python-dateutil>=2.8.2->pandas) (1.16.0)\n",
      "Note: you may need to restart the kernel to use updated packages.\n"
     ]
    }
   ],
   "source": [
    "pip install pandas openpyxl"
   ]
  },
  {
   "cell_type": "code",
   "execution_count": 5,
   "id": "6a535505-23ac-4ca9-8b95-7c657b1d86ed",
   "metadata": {},
   "outputs": [],
   "source": [
    "import pandas as pd\n",
    "import os"
   ]
  },
  {
   "cell_type": "code",
   "execution_count": 7,
   "id": "79358b16-0ba6-42cb-9317-87a6be3729cb",
   "metadata": {},
   "outputs": [],
   "source": [
    "file_name = 'users.xlsx'"
   ]
  },
  {
   "cell_type": "code",
   "execution_count": 9,
   "id": "c6ee1047-4e03-4a79-9d6b-acabc4ad0305",
   "metadata": {},
   "outputs": [],
   "source": [
    "def add_user():\n",
    "    name = input(\"Enter Name: \")\n",
    "    email = input(\"Enter Email: \")\n",
    "    phone = input(\"Enter Phone Number: \")\n",
    "\n",
    "    # Create a new DataFrame for the new user\n",
    "    new_user_df = pd.DataFrame({'Name': [name], 'Email': [email], 'Phone Number': [phone]})\n",
    "\n",
    "    # Check if the Excel file exists\n",
    "    if os.path.exists(file_name):\n",
    "        try:\n",
    "            # Try reading the existing file\n",
    "            df = pd.read_excel(file_name)\n",
    "            # Concatenate the new user DataFrame with the existing one\n",
    "            df = pd.concat([df, new_user_df], ignore_index=True)\n",
    "        except Exception as e:\n",
    "            print(f\"Error reading existing file: {e}\")\n",
    "            print(\"Deleting the corrupted file and creating a new one.\")\n",
    "            os.remove(file_name)  # Delete the corrupted file\n",
    "            df = new_user_df  # Start a new DataFrame\n",
    "    else:\n",
    "        # If not, just use the new user DataFrame\n",
    "        df = new_user_df"
   ]
  },
  {
   "cell_type": "code",
   "execution_count": 13,
   "id": "60d67375-5693-4b88-b4ba-ab2514967ac5",
   "metadata": {},
   "outputs": [
    {
     "name": "stdout",
     "output_type": "stream",
     "text": [
      "\n",
      "Make a choice to proceed:\n",
      "Press '1' to Add user.\n",
      "Press '2' to Display users.\n",
      "Press '3' to Exit.\n"
     ]
    },
    {
     "name": "stdin",
     "output_type": "stream",
     "text": [
      "Enter your choice:  1\n",
      "Enter Name:  pivosh\n",
      "Enter Email:  pivosh@gmail.com\n",
      "Enter Phone Number:  8798767898\n"
     ]
    },
    {
     "name": "stdout",
     "output_type": "stream",
     "text": [
      "\n",
      "Make a choice to proceed:\n",
      "Press '1' to Add user.\n",
      "Press '2' to Display users.\n",
      "Press '3' to Exit.\n"
     ]
    },
    {
     "name": "stdin",
     "output_type": "stream",
     "text": [
      "Enter your choice:  2\n"
     ]
    },
    {
     "name": "stdout",
     "output_type": "stream",
     "text": [
      "\n",
      "Stored Users:\n",
      "      Name                        Email  Phone Number\n",
      "0    silpa  gaikwadshilpa8291@gmail.com    8967543456\n",
      "1     dipa               dipa@gmail.com    8798765432\n",
      "2    divya              divya@gmail.com    9876545678\n",
      "3    priya              priya@gmail.com    9898987896\n",
      "4   ritesh             ritesh@gmail.com    8976765437\n",
      "5       om                 om@gmail.com    8798765434\n",
      "6  sangita            sangita@gmail.com    9898989898\n",
      "\n",
      "Make a choice to proceed:\n",
      "Press '1' to Add user.\n",
      "Press '2' to Display users.\n",
      "Press '3' to Exit.\n"
     ]
    },
    {
     "name": "stdin",
     "output_type": "stream",
     "text": [
      "Enter your choice:  2\n"
     ]
    },
    {
     "name": "stdout",
     "output_type": "stream",
     "text": [
      "\n",
      "Stored Users:\n",
      "      Name                        Email  Phone Number\n",
      "0    silpa  gaikwadshilpa8291@gmail.com    8967543456\n",
      "1     dipa               dipa@gmail.com    8798765432\n",
      "2    divya              divya@gmail.com    9876545678\n",
      "3    priya              priya@gmail.com    9898987896\n",
      "4   ritesh             ritesh@gmail.com    8976765437\n",
      "5       om                 om@gmail.com    8798765434\n",
      "6  sangita            sangita@gmail.com    9898989898\n",
      "\n",
      "Make a choice to proceed:\n",
      "Press '1' to Add user.\n",
      "Press '2' to Display users.\n",
      "Press '3' to Exit.\n"
     ]
    },
    {
     "name": "stdin",
     "output_type": "stream",
     "text": [
      "Enter your choice:  2\n"
     ]
    },
    {
     "name": "stdout",
     "output_type": "stream",
     "text": [
      "\n",
      "Stored Users:\n",
      "      Name                        Email  Phone Number\n",
      "0    silpa  gaikwadshilpa8291@gmail.com    8967543456\n",
      "1     dipa               dipa@gmail.com    8798765432\n",
      "2    divya              divya@gmail.com    9876545678\n",
      "3    priya              priya@gmail.com    9898987896\n",
      "4   ritesh             ritesh@gmail.com    8976765437\n",
      "5       om                 om@gmail.com    8798765434\n",
      "6  sangita            sangita@gmail.com    9898989898\n",
      "\n",
      "Make a choice to proceed:\n",
      "Press '1' to Add user.\n",
      "Press '2' to Display users.\n",
      "Press '3' to Exit.\n"
     ]
    },
    {
     "name": "stdin",
     "output_type": "stream",
     "text": [
      "Enter your choice:  3\n"
     ]
    },
    {
     "name": "stdout",
     "output_type": "stream",
     "text": [
      "Exiting the program.\n"
     ]
    }
   ],
   "source": [
    "# Function to display users\n",
    "def display_users():\n",
    "    if os.path.exists(file_name):\n",
    "        try:\n",
    "            df = pd.read_excel(file_name)\n",
    "            print(\"\\nStored Users:\")\n",
    "            print(df)\n",
    "        except Exception as e:\n",
    "            print(f\"Error reading the file: {e}\")\n",
    "    else:\n",
    "        print(\"No users found.\")\n",
    "\n",
    "# Main function to run the program\n",
    "def main():\n",
    "    while True:\n",
    "        print(\"\\nMake a choice to proceed:\")\n",
    "        print(\"Press '1' to Add user.\")\n",
    "        print(\"Press '2' to Display users.\")\n",
    "        print(\"Press '3' to Exit.\")\n",
    "        choice = input(\"Enter your choice: \")\n",
    "\n",
    "        if choice == '1':\n",
    "            add_user()\n",
    "        elif choice == '2':\n",
    "            display_users()\n",
    "        elif choice == '3':\n",
    "            print(\"Exiting the program.\")\n",
    "            break\n",
    "        else:\n",
    "            print(\"Invalid choice. Please try again.\")\n",
    "\n",
    "if __name__ == \"__main__\":\n",
    "    main()\n"
   ]
  },
  {
   "cell_type": "code",
   "execution_count": null,
   "id": "60ac9f99-d441-40ca-be0e-555793737563",
   "metadata": {},
   "outputs": [],
   "source": []
  }
 ],
 "metadata": {
  "kernelspec": {
   "display_name": "Python 3 (ipykernel)",
   "language": "python",
   "name": "python3"
  },
  "language_info": {
   "codemirror_mode": {
    "name": "ipython",
    "version": 3
   },
   "file_extension": ".py",
   "mimetype": "text/x-python",
   "name": "python",
   "nbconvert_exporter": "python",
   "pygments_lexer": "ipython3",
   "version": "3.12.4"
  }
 },
 "nbformat": 4,
 "nbformat_minor": 5
}
